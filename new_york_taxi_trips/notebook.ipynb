{
 "cells": [
  {
   "cell_type": "code",
   "execution_count": 1,
   "id": "cb33c0c6",
   "metadata": {},
   "outputs": [],
   "source": [
    "from google.cloud import bigquery\n",
    "import pandas as pd\n",
    "import os"
   ]
  },
  {
   "cell_type": "code",
   "execution_count": 2,
   "id": "42617a00",
   "metadata": {},
   "outputs": [],
   "source": [
    "os.environ['GOOGLE_APPLICATION_CREDENTIALS'] = \"/home/jasonzelin/jasonzelin_data-analytics-portfolio.json\""
   ]
  },
  {
   "cell_type": "code",
   "execution_count": 3,
   "id": "9c0fc727",
   "metadata": {},
   "outputs": [
    {
     "name": "stderr",
     "output_type": "stream",
     "text": [
      "/home/jasonzelin/data-analytics-portfolio/venv/lib/python3.12/site-packages/google/cloud/bigquery/table.py:1957: UserWarning: BigQuery Storage module not found, fetch data with the REST endpoint instead.\n",
      "  warnings.warn(\n"
     ]
    },
    {
     "data": {
      "text/html": [
       "<div>\n",
       "<style scoped>\n",
       "    .dataframe tbody tr th:only-of-type {\n",
       "        vertical-align: middle;\n",
       "    }\n",
       "\n",
       "    .dataframe tbody tr th {\n",
       "        vertical-align: top;\n",
       "    }\n",
       "\n",
       "    .dataframe thead th {\n",
       "        text-align: right;\n",
       "    }\n",
       "</style>\n",
       "<table border=\"1\" class=\"dataframe\">\n",
       "  <thead>\n",
       "    <tr style=\"text-align: right;\">\n",
       "      <th></th>\n",
       "      <th>zone_id</th>\n",
       "      <th>zone_name</th>\n",
       "      <th>borough</th>\n",
       "      <th>zone_geom</th>\n",
       "    </tr>\n",
       "  </thead>\n",
       "  <tbody>\n",
       "    <tr>\n",
       "      <th>0</th>\n",
       "      <td>1</td>\n",
       "      <td>Newark Airport</td>\n",
       "      <td>EWR</td>\n",
       "      <td>POLYGON((-74.1856319999999 40.6916479999999, -...</td>\n",
       "    </tr>\n",
       "    <tr>\n",
       "      <th>1</th>\n",
       "      <td>3</td>\n",
       "      <td>Allerton/Pelham Gardens</td>\n",
       "      <td>Bronx</td>\n",
       "      <td>POLYGON((-73.848596761 40.8716707849999, -73.8...</td>\n",
       "    </tr>\n",
       "    <tr>\n",
       "      <th>2</th>\n",
       "      <td>18</td>\n",
       "      <td>Bedford Park</td>\n",
       "      <td>Bronx</td>\n",
       "      <td>POLYGON((-73.8844286139999 40.8668003789999, -...</td>\n",
       "    </tr>\n",
       "    <tr>\n",
       "      <th>3</th>\n",
       "      <td>20</td>\n",
       "      <td>Belmont</td>\n",
       "      <td>Bronx</td>\n",
       "      <td>POLYGON((-73.8839239579998 40.8644177609999, -...</td>\n",
       "    </tr>\n",
       "    <tr>\n",
       "      <th>4</th>\n",
       "      <td>31</td>\n",
       "      <td>Bronx Park</td>\n",
       "      <td>Bronx</td>\n",
       "      <td>POLYGON((-73.8710017319999 40.8572767429999, -...</td>\n",
       "    </tr>\n",
       "  </tbody>\n",
       "</table>\n",
       "</div>"
      ],
      "text/plain": [
       "  zone_id                zone_name borough  \\\n",
       "0       1           Newark Airport     EWR   \n",
       "1       3  Allerton/Pelham Gardens   Bronx   \n",
       "2      18             Bedford Park   Bronx   \n",
       "3      20                  Belmont   Bronx   \n",
       "4      31               Bronx Park   Bronx   \n",
       "\n",
       "                                           zone_geom  \n",
       "0  POLYGON((-74.1856319999999 40.6916479999999, -...  \n",
       "1  POLYGON((-73.848596761 40.8716707849999, -73.8...  \n",
       "2  POLYGON((-73.8844286139999 40.8668003789999, -...  \n",
       "3  POLYGON((-73.8839239579998 40.8644177609999, -...  \n",
       "4  POLYGON((-73.8710017319999 40.8572767429999, -...  "
      ]
     },
     "execution_count": null,
     "metadata": {},
     "output_type": "execute_result"
    }
   ],
   "source": [
    "client = bigquery.Client()\n",
    "query = \"\"\"\n",
    "SELECT\n",
    "    *\n",
    "from\n",
    "    `bigquery-public-data.new_york_taxi_trips.taxi_zone_geom`\n",
    "limit 5\n",
    "\"\"\"\n",
    "\n",
    "df = client.query(query).to_dataframe()\n",
    "df"
   ]
  }
 ],
 "metadata": {
  "language_info": {
   "name": "python"
  }
 },
 "nbformat": 4,
 "nbformat_minor": 5
}
