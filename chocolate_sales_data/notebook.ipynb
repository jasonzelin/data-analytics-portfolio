{
 "cells": [
  {
   "cell_type": "markdown",
   "id": "2b67f1d3",
   "metadata": {},
   "source": [
    "# Chocolate Sales Data\n",
    "In this notebook I will do an exploratory data analysis (EDA) for chocolate sales data and later discover how I will leverage the data to make business insights, predictions or any notable findings. Quoting from the author of the data, here are some notes regarding the data collection methodology:\n",
    "- Data was aggregated from chocolate retailers and online marketplaces.\n",
    "- Only confirmed transactions were included to ensure accuracy.\n",
    "- Revenue values reflect final prices after applying discounts, if any.\n",
    "\n",
    "*Source*: [Chocolate Sales Data 📊🍫](https://www.kaggle.com/datasets/atharvasoundankar/chocolate-sales/data), authored by: [Atharva Soundankar](https://www.kaggle.com/atharvasoundankar)"
   ]
  },
  {
   "cell_type": "markdown",
   "id": "11168d48",
   "metadata": {},
   "source": [
    "### Step 1: Import Necessary Libraries"
   ]
  },
  {
   "cell_type": "code",
   "execution_count": 1,
   "id": "d1769995",
   "metadata": {},
   "outputs": [],
   "source": [
    "import pandas as pd\n",
    "import numpy as np\n",
    "\n",
    "import matplotlib.pyplot as plt\n",
    "import seaborn as sns\n",
    "\n",
    "import re\n",
    "\n",
    "# from sklearn.preprocessing import PolynomialFeatures\n",
    "# from sklearn.linear_model import LinearRegression\n",
    "# from sklearn.pipeline import make_pipeline\n",
    "# import warnings"
   ]
  },
  {
   "cell_type": "markdown",
   "id": "9bc31ac1",
   "metadata": {},
   "source": [
    "### Step 2: Read the CSV File and Import the Data as a Pandas Dataframe"
   ]
  },
  {
   "cell_type": "code",
   "execution_count": 2,
   "id": "ae9c0700",
   "metadata": {},
   "outputs": [],
   "source": [
    "df = pd.read_csv('/home/jasonzelin/data-analytics-portfolio/chocolate_sales_data/data/chocolate_sales.csv')"
   ]
  },
  {
   "cell_type": "markdown",
   "id": "02e84071",
   "metadata": {},
   "source": [
    "### Step 3: Start the Exploratory Data Analysis (EDA)"
   ]
  },
  {
   "cell_type": "markdown",
   "id": "634ed7ac",
   "metadata": {},
   "source": [
    "Identify the shape and data types of each column existing in the dataframe"
   ]
  },
  {
   "cell_type": "code",
   "execution_count": 3,
   "id": "8f46fac3",
   "metadata": {},
   "outputs": [
    {
     "name": "stdout",
     "output_type": "stream",
     "text": [
      "The shape of the data is  (1094, 6)\n",
      "The data types of each column are as below: Sales Person     object\n",
      "Country          object\n",
      "Product          object\n",
      "Date             object\n",
      "Amount           object\n",
      "Boxes Shipped     int64\n",
      "dtype: object\n"
     ]
    }
   ],
   "source": [
    "print(\"The shape of the data is \", df.shape)\n",
    "print(\"The data types of each column are as below:\", df.dtypes)"
   ]
  }
 ],
 "metadata": {
  "language_info": {
   "name": "python"
  }
 },
 "nbformat": 4,
 "nbformat_minor": 5
}
